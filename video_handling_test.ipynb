{
 "cells": [
  {
   "cell_type": "code",
   "execution_count": 6,
   "source": [
    "import cv2\r\n",
    "import numpy as np\r\n",
    "import scipy.linalg as la"
   ],
   "outputs": [],
   "metadata": {}
  },
  {
   "cell_type": "code",
   "execution_count": 17,
   "source": [
    "samples_per_second = 5\r\n",
    "stride = 20"
   ],
   "outputs": [],
   "metadata": {}
  },
  {
   "cell_type": "code",
   "execution_count": 18,
   "source": [
    "def frame_distance(frame1, frame2, stride = 20):\r\n",
    "\r\n",
    "    frame1_strided = frame1[::stride, ::stride, :].reshape(-1 , 3).astype(int)\r\n",
    "    frame2_strided = frame2[::stride, ::stride, :].reshape(-1 , 3).astype(int)\r\n",
    "\r\n",
    "    x = la.norm(\r\n",
    "        frame1_strided - frame2_strided,\r\n",
    "        ord=2,\r\n",
    "        axis=1\r\n",
    "        ).mean()\r\n",
    "\r\n",
    "    # Normalize for number of pixels\r\n",
    "    return x"
   ],
   "outputs": [],
   "metadata": {}
  },
  {
   "cell_type": "code",
   "execution_count": 19,
   "source": [
    "# Start the video capture\r\n",
    "vc = cv2.VideoCapture(\"video/2021-09-16_16-16-44.mp4\")\r\n",
    "\r\n",
    "# Get the frames per second and total frames\r\n",
    "fps = vc.get(cv2.CAP_PROP_FPS)\r\n",
    "total_frames = vc.get(cv2.CAP_PROP_FRAME_COUNT)\r\n",
    "print(f\"Total frames: {total_frames}\")\r\n",
    "\r\n",
    "skip_frames = fps / samples_per_second\r\n",
    "frame_comps = int(total_frames // skip_frames)\r\n",
    "print(f\"Frame comparisons: {frame_comps}\")"
   ],
   "outputs": [
    {
     "output_type": "stream",
     "name": "stdout",
     "text": [
      "Total frames: 354.0\n",
      "Frame comparisons: 29\n"
     ]
    }
   ],
   "metadata": {}
  },
  {
   "cell_type": "code",
   "execution_count": 20,
   "source": [
    "curr_frame = None\r\n",
    "prev_frame = None\r\n",
    "frame_diffs = np.zeros(frame_comps)\r\n",
    "frame_pos = 0\r\n",
    "idx = 0\r\n",
    "\r\n",
    "while vc.isOpened():\r\n",
    "\r\n",
    "    ret, frame = vc.read()\r\n",
    "    frame_pos += skip_frames\r\n",
    "    vc.set(cv2.CAP_PROP_POS_FRAMES, frame_pos)\r\n",
    "\r\n",
    "    if ret:\r\n",
    "\r\n",
    "        if curr_frame is None:\r\n",
    "            curr_frame = frame\r\n",
    "        else:\r\n",
    "            prev_frame = curr_frame\r\n",
    "            curr_frame = frame\r\n",
    "\r\n",
    "            frame_diffs[idx] = frame_distance(curr_frame, prev_frame, stride=stride)\r\n",
    "            idx += 1\r\n",
    "\r\n",
    "    else:\r\n",
    "        vc.release()\r\n",
    "        break\r\n"
   ],
   "outputs": [],
   "metadata": {}
  },
  {
   "cell_type": "code",
   "execution_count": 21,
   "source": [
    "frame_diffs"
   ],
   "outputs": [
    {
     "output_type": "execute_result",
     "data": {
      "text/plain": [
       "array([20.30465017, 20.64087169, 17.05901155, 17.11878974, 17.25949156,\n",
       "       16.74637562, 14.63633698, 13.8993657 , 17.36125051, 15.25941241,\n",
       "       19.61621908, 26.7124042 , 16.39826633, 19.78830752, 29.79474898,\n",
       "       35.18015411, 33.63303351, 32.42449592, 31.78823633, 29.32355771,\n",
       "       32.44528329, 23.71549195, 21.75593342, 21.20205608, 24.01542527,\n",
       "       29.38418172, 24.42146724, 66.73391644,  3.63544002])"
      ]
     },
     "metadata": {},
     "execution_count": 21
    }
   ],
   "metadata": {}
  },
  {
   "cell_type": "code",
   "execution_count": null,
   "source": [],
   "outputs": [],
   "metadata": {}
  }
 ],
 "metadata": {
  "orig_nbformat": 4,
  "language_info": {
   "name": "python",
   "version": "3.8.11",
   "mimetype": "text/x-python",
   "codemirror_mode": {
    "name": "ipython",
    "version": 3
   },
   "pygments_lexer": "ipython3",
   "nbconvert_exporter": "python",
   "file_extension": ".py"
  },
  "kernelspec": {
   "name": "python3",
   "display_name": "Python 3.8.11 64-bit ('cut_detection': conda)"
  },
  "interpreter": {
   "hash": "2bd69eeb121b527742ac680bc7827104fe429be3ed9ba39a32e30554452dc1f8"
  }
 },
 "nbformat": 4,
 "nbformat_minor": 2
}