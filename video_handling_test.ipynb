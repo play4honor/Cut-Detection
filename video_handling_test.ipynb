{
 "cells": [
  {
   "cell_type": "code",
   "execution_count": null,
   "source": [
    "import cv2\r\n",
    "import numpy as np\r\n",
    "import scipy.linalg as la\r\n",
    "\r\n",
    "# For profiling, not required in general.\r\n",
    "import cProfile"
   ],
   "outputs": [],
   "metadata": {}
  },
  {
   "cell_type": "code",
   "execution_count": 11,
   "source": [
    "def frame_distance(frame1, frame2, stride:int = 20):\r\n",
    "\r\n",
    "    frame1_strided = frame1[::stride, ::stride, :].reshape(-1 , 3).astype(int)\r\n",
    "    frame2_strided = frame2[::stride, ::stride, :].reshape(-1 , 3).astype(int)\r\n",
    "\r\n",
    "    x = la.norm(\r\n",
    "        frame1_strided - frame2_strided,\r\n",
    "        ord=2,\r\n",
    "        axis=1\r\n",
    "        ).mean()\r\n",
    "\r\n",
    "    return x"
   ],
   "outputs": [],
   "metadata": {}
  },
  {
   "cell_type": "code",
   "execution_count": null,
   "source": [
    "def find_cuts(file_path, stride:int = 20):\r\n",
    "\r\n",
    "    # Start the video capture\r\n",
    "    vc = cv2.VideoCapture(file_path)\r\n",
    "\r\n",
    "    # Get total frames\r\n",
    "    total_frames = vc.get(cv2.CAP_PROP_FRAME_COUNT)\r\n",
    "    print(f\"Total frames: {total_frames}\")\r\n",
    "\r\n",
    "    curr_frame = None\r\n",
    "    prev_frame = None\r\n",
    "    frame_diffs = np.zeros(int(total_frames - 1))\r\n",
    "    idx = 0\r\n",
    "\r\n",
    "    while vc.isOpened():\r\n",
    "\r\n",
    "        ret, frame = vc.read()\r\n",
    "\r\n",
    "        if ret:\r\n",
    "\r\n",
    "            if curr_frame is None:\r\n",
    "                curr_frame = frame\r\n",
    "            else:\r\n",
    "                prev_frame = curr_frame\r\n",
    "                curr_frame = frame\r\n",
    "\r\n",
    "                frame_diffs[idx] = frame_distance(curr_frame, prev_frame, stride=stride)\r\n",
    "                idx += 1\r\n",
    "\r\n",
    "        else:\r\n",
    "            vc.release()\r\n",
    "            break\r\n",
    "\r\n",
    "    return frame_diffs"
   ],
   "outputs": [],
   "metadata": {}
  },
  {
   "cell_type": "code",
   "execution_count": null,
   "source": [
    "find_cuts(\"video/2021-09-16_16-16-44.mp4\", stride=50)"
   ],
   "outputs": [],
   "metadata": {}
  },
  {
   "cell_type": "code",
   "execution_count": null,
   "source": [
    "# If you want to see the profiling results\r\n",
    "cProfile.run('find_cuts(\"video/2021-09-16_16-16-44.mp4\", stride=50)')"
   ],
   "outputs": [],
   "metadata": {}
  },
  {
   "cell_type": "code",
   "execution_count": null,
   "source": [],
   "outputs": [],
   "metadata": {}
  }
 ],
 "metadata": {
  "orig_nbformat": 4,
  "language_info": {
   "name": "python",
   "version": "3.8.11",
   "mimetype": "text/x-python",
   "codemirror_mode": {
    "name": "ipython",
    "version": 3
   },
   "pygments_lexer": "ipython3",
   "nbconvert_exporter": "python",
   "file_extension": ".py"
  },
  "kernelspec": {
   "name": "python3",
   "display_name": "Python 3.8.11 64-bit ('cut_detection': conda)"
  },
  "interpreter": {
   "hash": "2bd69eeb121b527742ac680bc7827104fe429be3ed9ba39a32e30554452dc1f8"
  }
 },
 "nbformat": 4,
 "nbformat_minor": 2
}